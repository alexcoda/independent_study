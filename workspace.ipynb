{
 "cells": [
  {
   "cell_type": "code",
   "execution_count": 1,
   "metadata": {
    "collapsed": true
   },
   "outputs": [],
   "source": [
    "import pandas as pd\n",
    "import numpy as np\n",
    "from collections import Counter\n",
    "import pickle"
   ]
  },
  {
   "cell_type": "markdown",
   "metadata": {},
   "source": [
    "# Loading data"
   ]
  },
  {
   "cell_type": "code",
   "execution_count": null,
   "metadata": {
    "collapsed": true
   },
   "outputs": [],
   "source": [
    "PATH = 'data/'\n",
    "e_fname = f\"{PATH}employees.tsv\"\n",
    "m_fname = f\"{PATH}messages.tsv\"\n",
    "r_fname = f\"{PATH}recipients.tsv\"\n",
    "full_fname = f\"{PATH}cleaned_emails.csv\""
   ]
  },
  {
   "cell_type": "code",
   "execution_count": null,
   "metadata": {
    "collapsed": true
   },
   "outputs": [],
   "source": [
    "# Load employee data\n",
    "e_df = pd.read_csv(e_fname, sep='\\t', header=None)\n",
    "e_df.columns = ['employee_id', 'name', 'dept', 'long_dept', 'title', 'gender', 'seniority']\n",
    "e_df.set_index('employee_id', inplace=True)"
   ]
  },
  {
   "cell_type": "code",
   "execution_count": null,
   "metadata": {
    "collapsed": true
   },
   "outputs": [],
   "source": [
    "# Load message data\n",
    "m_df = pd.read_csv(m_fname, sep='\\t', header=None)\n",
    "m_df.columns = ['message_id', 'fname', 'unix_time', 'subject', 'sender_employee_id']\n",
    "m_df.set_index('message_id', inplace=True)"
   ]
  },
  {
   "cell_type": "code",
   "execution_count": null,
   "metadata": {
    "collapsed": true,
    "scrolled": true
   },
   "outputs": [],
   "source": [
    "# Load recipient data\n",
    "r_df = pd.read_csv(r_fname, sep='\\t', header=None)\n",
    "r_df.columns = ['message_id', 'recipient_num', 'recipient_employee_id']\n",
    "r_df.set_index('message_id', inplace=True)"
   ]
  },
  {
   "cell_type": "code",
   "execution_count": null,
   "metadata": {
    "collapsed": true
   },
   "outputs": [],
   "source": [
    "# Load full dataset\n",
    "df = pd.read_csv(full_fname)\n",
    "df.set_index('Unnamed: 0', inplace=True)\n",
    "df.index.name = 'id'"
   ]
  },
  {
   "cell_type": "markdown",
   "metadata": {},
   "source": [
    "# Merging data"
   ]
  },
  {
   "cell_type": "code",
   "execution_count": null,
   "metadata": {
    "collapsed": true
   },
   "outputs": [],
   "source": [
    "# Filter down to only matching names\n",
    "name_set = set(e_df['name'].values)\n",
    "name_match_msk = df['from_name'].apply(lambda n: str(n) in name_set)\n",
    "df = df[name_match_msk]"
   ]
  },
  {
   "cell_type": "code",
   "execution_count": null,
   "metadata": {
    "collapsed": true
   },
   "outputs": [],
   "source": [
    "# Filter down to only matching recipients as well\n",
    "def matching_recipient(recipient):\n",
    "    \"\"\"Return True if the recipient is in the name_set.\"\"\"\n",
    "    return any(n in str(recipient) for n in name_set)\n",
    "\n",
    "def fix_recipient_name(recipient):\n",
    "    \"\"\"Return True if the recipient is in the name_set.\"\"\"\n",
    "    for n in name_set:\n",
    "        if n in str(recipient):\n",
    "            return n\n",
    "    raise ValueError('Missed name')\n",
    "\n",
    "recipient_match_msk = df['to_name'].apply(matching_recipient)\n",
    "df = df[recipient_match_msk]\n",
    "\n",
    "new_recipient_name = df['to_name'].apply(fix_recipient_name)\n",
    "df['to_name'] = new_recipient_name"
   ]
  },
  {
   "cell_type": "code",
   "execution_count": null,
   "metadata": {
    "collapsed": true
   },
   "outputs": [],
   "source": [
    "# Add in power/gender info for sender and recipient\n",
    "gender_dict = {n: g for _, (n, g) in e_df[['name', 'gender']].iterrows()}\n",
    "title_dict = {n: t for _, (n, t) in e_df[['name', 'title']].iterrows()}\n",
    "seniority_dict = {n: s for _, (n, s) in e_df[['name', 'seniority']].iterrows()}\n",
    "\n",
    "from_gender = [gender_dict[name] for name in df['from_name']]\n",
    "to_gender = [gender_dict[name] for name in df['to_name']]\n",
    "df['from_gender'] = from_gender\n",
    "df['to_gender'] = to_gender\n",
    "\n",
    "from_title = [title_dict[name] for name in df['from_name']]\n",
    "to_title = [title_dict[name] for name in df['to_name']]\n",
    "df['from_title'] = from_title\n",
    "df['to_title'] = to_title\n",
    "\n",
    "from_seniority = [seniority_dict[name] for name in df['from_name']]\n",
    "to_seniority = [seniority_dict[name] for name in df['to_name']]\n",
    "df['from_seniority'] = from_seniority\n",
    "df['to_seniority'] = to_seniority"
   ]
  },
  {
   "cell_type": "code",
   "execution_count": null,
   "metadata": {
    "collapsed": true
   },
   "outputs": [],
   "source": [
    "# Add a gender-to-gender label\n",
    "gender_label_dict = {'Male-Male': 0,\n",
    "                     'Male-Female': 1,\n",
    "                     'Female-Female': 2,\n",
    "                     'Female-Male': 3}\n",
    "\n",
    "gender_label = [gender_label_dict[f\"{g1}-{g2}\"]\n",
    "                for _, (g1, g2) in df[['from_gender', 'to_gender']].iterrows()]\n",
    "\n",
    "df['gender_label'] = gender_label"
   ]
  },
  {
   "cell_type": "markdown",
   "metadata": {},
   "source": [
    "# Predictions"
   ]
  },
  {
   "cell_type": "code",
   "execution_count": null,
   "metadata": {},
   "outputs": [],
   "source": [
    "# Basic counts\n",
    "g_counts = Counter(e_df['gender'])\n",
    "g_counts"
   ]
  },
  {
   "cell_type": "code",
   "execution_count": null,
   "metadata": {},
   "outputs": [],
   "source": [
    "# df counts\n",
    "from_g_counts = Counter(df['from_gender'])\n",
    "from_g_counts"
   ]
  },
  {
   "cell_type": "code",
   "execution_count": null,
   "metadata": {},
   "outputs": [],
   "source": [
    "to_g_counts = Counter(df['to_gender'])\n",
    "to_g_counts"
   ]
  },
  {
   "cell_type": "code",
   "execution_count": null,
   "metadata": {},
   "outputs": [],
   "source": [
    "# VERY INTERESTING\n",
    "convo_counts = Counter(df['gender_label'])\n",
    "convo_counts"
   ]
  },
  {
   "cell_type": "code",
   "execution_count": null,
   "metadata": {
    "collapsed": true
   },
   "outputs": [],
   "source": [
    "def extract_all_text(label):\n",
    "    \"\"\"Get all the text for a given label.\"\"\"\n",
    "    tmp_df = df[df['gender_label'] == label]\n",
    "    return '\\n'.join(txt for txt in df['raw_text']).split()"
   ]
  },
  {
   "cell_type": "code",
   "execution_count": null,
   "metadata": {
    "collapsed": true
   },
   "outputs": [],
   "source": [
    "all_0_text = extract_all_text(0)\n",
    "all_1_text = extract_all_text(1)\n",
    "all_2_text = extract_all_text(2)\n",
    "all_3_text = extract_all_text(3)"
   ]
  },
  {
   "cell_type": "code",
   "execution_count": null,
   "metadata": {
    "scrolled": true
   },
   "outputs": [],
   "source": [
    "# Looking at gender-job correlation\n",
    "df[['from_gender', 'from_title', 'to_gender', 'to_title']]"
   ]
  },
  {
   "cell_type": "code",
   "execution_count": null,
   "metadata": {
    "collapsed": true
   },
   "outputs": [],
   "source": [
    "combos = [(g, t) for _, (g, t) in df[['from_gender', 'from_title']].iterrows()] + \\\n",
    "         [(g, t) for _, (g, t) in df[['to_gender', 'to_title']].iterrows()]"
   ]
  },
  {
   "cell_type": "code",
   "execution_count": null,
   "metadata": {
    "collapsed": true
   },
   "outputs": [],
   "source": [
    "j_map = {c: i for i, c in enumerate(set(c[1] for c in combos))}\n",
    "g_map = {'Male': 0, 'Female': 1}"
   ]
  },
  {
   "cell_type": "code",
   "execution_count": null,
   "metadata": {
    "collapsed": true
   },
   "outputs": [],
   "source": [
    "gj_mat = np.zeros((30, 2), dtype=int)"
   ]
  },
  {
   "cell_type": "code",
   "execution_count": null,
   "metadata": {
    "collapsed": true
   },
   "outputs": [],
   "source": [
    "gender_job = Counter(combos)"
   ]
  },
  {
   "cell_type": "code",
   "execution_count": null,
   "metadata": {
    "collapsed": true,
    "scrolled": true
   },
   "outputs": [],
   "source": [
    "for gj, count in gender_job.items():\n",
    "    index = (j_map[gj[1]], g_map[gj[0]])\n",
    "    gj_mat[index] = count"
   ]
  },
  {
   "cell_type": "code",
   "execution_count": null,
   "metadata": {},
   "outputs": [],
   "source": [
    "print(' '*24, 'Male', ' Female')\n",
    "for job, i in j_map.items():\n",
    "    print(job.ljust(24), str(gj_mat[i][0]).rjust(4), str(gj_mat[i][1]).rjust(4))"
   ]
  },
  {
   "cell_type": "markdown",
   "metadata": {},
   "source": [
    "# Classifying"
   ]
  },
  {
   "cell_type": "code",
   "execution_count": 77,
   "metadata": {
    "collapsed": true
   },
   "outputs": [],
   "source": [
    "from sklearn.feature_extraction.text import TfidfVectorizer\n",
    "from sklearn.model_selection import train_test_split\n",
    "from sklearn.linear_model import LogisticRegression\n",
    "from sklearn.metrics import precision_recall_fscore_support, classification_report, confusion_matrix"
   ]
  },
  {
   "cell_type": "code",
   "execution_count": null,
   "metadata": {
    "collapsed": true
   },
   "outputs": [],
   "source": [
    "names = [tuple(map(lambda s: s.lower(), n.split())) for n in e_df['name'].values]"
   ]
  },
  {
   "cell_type": "code",
   "execution_count": null,
   "metadata": {
    "collapsed": true
   },
   "outputs": [],
   "source": [
    "def clean_text(text):\n",
    "    \"\"\"Replace names in the text.\"\"\"\n",
    "    text = ' '.join(text.lower().split())\n",
    "    for n in names:\n",
    "        n1 = n[0]\n",
    "        if len(n) == 2:\n",
    "            n2 = n[1]\n",
    "        else:\n",
    "            if n[2] == 'jr.' or n[2] == 'iii':\n",
    "                n2 = n[1]\n",
    "            else:\n",
    "                n2 = n[2]\n",
    "        text = text.replace(n1, '<FIRST_NAME>')\n",
    "        text = text.replace(n2, '<LAST_NAME>')\n",
    "    return text"
   ]
  },
  {
   "cell_type": "code",
   "execution_count": null,
   "metadata": {
    "collapsed": true
   },
   "outputs": [],
   "source": [
    "text = df['raw_text'].values\n",
    "text = [clean_text(t) for t in text]"
   ]
  },
  {
   "cell_type": "code",
   "execution_count": null,
   "metadata": {
    "collapsed": true
   },
   "outputs": [],
   "source": [
    "y = df['gender_label'].values\n",
    "\n",
    "text_train, text_test, y_train, y_test = train_test_split(text, y, train_size=0.8, test_size=0.2)"
   ]
  },
  {
   "cell_type": "code",
   "execution_count": null,
   "metadata": {
    "collapsed": true
   },
   "outputs": [],
   "source": [
    "vec = TfidfVectorizer(stop_words='english', max_features=2000)\n",
    "\n",
    "X_train = vec.fit_transform(text_train)\n",
    "X_test = vec.transform(text_test)"
   ]
  },
  {
   "cell_type": "code",
   "execution_count": null,
   "metadata": {
    "collapsed": true
   },
   "outputs": [],
   "source": [
    "clf = LogisticRegression()"
   ]
  },
  {
   "cell_type": "code",
   "execution_count": null,
   "metadata": {
    "collapsed": true
   },
   "outputs": [],
   "source": [
    "clf.fit(X_train, y_train)\n",
    "\n",
    "y_train_pred = clf.predict(X_train)\n",
    "y_test_pred = clf.predict(X_test)"
   ]
  },
  {
   "cell_type": "code",
   "execution_count": null,
   "metadata": {},
   "outputs": [],
   "source": [
    "print(classification_report(y_train, y_train_pred))"
   ]
  },
  {
   "cell_type": "code",
   "execution_count": null,
   "metadata": {},
   "outputs": [],
   "source": [
    "print(classification_report(y_test, y_test_pred))"
   ]
  },
  {
   "cell_type": "code",
   "execution_count": null,
   "metadata": {
    "collapsed": true
   },
   "outputs": [],
   "source": [
    "# Inspecting coefficients\n",
    "coef_dict = {}\n",
    "for label in range(4):\n",
    "    coef_dict[label] = {w: clf.coef_[label][i]\n",
    "                        for w, i in vec.vocabulary_.items()}\n",
    "\n",
    "coef_df = pd.DataFrame(coef_dict)"
   ]
  },
  {
   "cell_type": "code",
   "execution_count": null,
   "metadata": {
    "scrolled": true
   },
   "outputs": [],
   "source": [
    "coef_df.sort_values(3, ascending=False)"
   ]
  },
  {
   "cell_type": "markdown",
   "metadata": {},
   "source": [
    "### Now with just job titles"
   ]
  },
  {
   "cell_type": "code",
   "execution_count": null,
   "metadata": {
    "collapsed": true
   },
   "outputs": [],
   "source": [
    "titles_text = [f\"{t1} {t2}\" for _, (t1, t2) in df[['from_title', 'to_title']].iterrows()]"
   ]
  },
  {
   "cell_type": "code",
   "execution_count": null,
   "metadata": {
    "collapsed": true
   },
   "outputs": [],
   "source": [
    "titles_text_train, titles_text_test, y2_train, y2_test = train_test_split(titles_text, y, train_size=0.8, test_size=0.2)"
   ]
  },
  {
   "cell_type": "code",
   "execution_count": null,
   "metadata": {
    "collapsed": true
   },
   "outputs": [],
   "source": [
    "vec2 = TfidfVectorizer(stop_words='english')\n",
    "\n",
    "X2_train = vec2.fit_transform(titles_text_train)\n",
    "X2_test = vec2.transform(titles_text_test)"
   ]
  },
  {
   "cell_type": "code",
   "execution_count": null,
   "metadata": {
    "collapsed": true
   },
   "outputs": [],
   "source": [
    "clf2 = LogisticRegression()\n",
    "clf2.fit(X2_train, y2_train)\n",
    "\n",
    "y2_train_pred = clf2.predict(X2_train)\n",
    "y2_test_pred = clf2.predict(X2_test)"
   ]
  },
  {
   "cell_type": "code",
   "execution_count": null,
   "metadata": {},
   "outputs": [],
   "source": [
    "print(classification_report(y2_train, y2_train_pred))"
   ]
  },
  {
   "cell_type": "code",
   "execution_count": null,
   "metadata": {},
   "outputs": [],
   "source": [
    "print(classification_report(y2_test, y2_test_pred))"
   ]
  },
  {
   "cell_type": "markdown",
   "metadata": {},
   "source": [
    "# GYAFC\n",
    "\n",
    "Predicting formality"
   ]
  },
  {
   "cell_type": "code",
   "execution_count": 106,
   "metadata": {
    "collapsed": true
   },
   "outputs": [],
   "source": [
    "PATH = 'data/GYAFC_Corpus/Family_Relationships/'\n",
    "# PATH = 'data/GYAFC_Corpus/Entertainment_Music/'\n",
    "f_train_formal = f\"{PATH}train/formal\"\n",
    "f_train_informal = f\"{PATH}train/informal\"\n",
    "f_test_formal = f\"{PATH}test/formal\"\n",
    "f_test_informal = f\"{PATH}test/informal\""
   ]
  },
  {
   "cell_type": "code",
   "execution_count": 107,
   "metadata": {},
   "outputs": [],
   "source": [
    "train_formal = pd.read_csv(f_train_formal, sep='\\t', header=None)\n",
    "train_informal = pd.read_csv(f_train_informal, sep='\\t', header=None)\n",
    "test_formal = pd.read_csv(f_test_formal, sep='\\t', header=None)\n",
    "test_informal = pd.read_csv(f_test_informal, sep='\\t', header=None)\n",
    "\n",
    "train_formal.columns = ['text']\n",
    "train_informal.columns = ['text']\n",
    "test_formal.columns = ['text']\n",
    "test_informal.columns = ['text']\n",
    "\n",
    "train_formal['label'] = 1\n",
    "train_informal['label'] = 0\n",
    "test_formal['label'] = 1\n",
    "test_informal['label'] = 0"
   ]
  },
  {
   "cell_type": "code",
   "execution_count": 108,
   "metadata": {},
   "outputs": [],
   "source": [
    "train = pd.concat([train_formal, train_informal]).sample(frac=1)\n",
    "test = pd.concat([test_formal, test_informal]).sample(frac=1)"
   ]
  },
  {
   "cell_type": "code",
   "execution_count": 109,
   "metadata": {},
   "outputs": [],
   "source": [
    "# Build the classifier\n",
    "text_train = train['text'].values\n",
    "text_test = test['text'].values\n",
    "\n",
    "y_train = train['label'].values\n",
    "y_test = test['label'].values\n",
    "\n",
    "# Vectorize sentences\n",
    "vec = TfidfVectorizer(stop_words='english', max_features=2000)\n",
    "X_train = vec.fit_transform(text_train)\n",
    "X_test = vec.transform(text_test)\n",
    "\n",
    "# Build the classifier\n",
    "clf = LogisticRegression()\n",
    "clf.fit(X_train, y_train)\n",
    "\n",
    "y_train_pred = clf.predict(X_train)\n",
    "y_test_pred = clf.predict(X_test)"
   ]
  },
  {
   "cell_type": "code",
   "execution_count": 110,
   "metadata": {},
   "outputs": [
    {
     "name": "stdout",
     "output_type": "stream",
     "text": [
      "~~TRAIN~~\n",
      "             precision    recall  f1-score   support\n",
      "\n",
      "          0       0.74      0.69      0.71     51967\n",
      "          1       0.71      0.76      0.73     51967\n",
      "\n",
      "avg / total       0.72      0.72      0.72    103934\n",
      "\n",
      "\n",
      "~~TEST~~\n",
      "             precision    recall  f1-score   support\n",
      "\n",
      "          0       0.83      0.70      0.76      1332\n",
      "          1       0.67      0.81      0.73      1019\n",
      "\n",
      "avg / total       0.76      0.75      0.75      2351\n",
      "\n"
     ]
    }
   ],
   "source": [
    "print(\"~~TRAIN~~\")\n",
    "print(classification_report(y_train, y_train_pred))\n",
    "print(\"\\n~~TEST~~\")\n",
    "print(classification_report(y_test, y_test_pred))"
   ]
  },
  {
   "cell_type": "code",
   "execution_count": 111,
   "metadata": {},
   "outputs": [
    {
     "data": {
      "text/plain": [
       "(1, 2000)"
      ]
     },
     "execution_count": 111,
     "metadata": {},
     "output_type": "execute_result"
    }
   ],
   "source": [
    "clf.coef_.shape"
   ]
  },
  {
   "cell_type": "code",
   "execution_count": 112,
   "metadata": {},
   "outputs": [],
   "source": [
    "# Inspecting coefficients\n",
    "coef_dict = {}\n",
    "coef_dict[1] = {w: clf.coef_[0][i]\n",
    "                    for w, i in vec.vocabulary_.items()}\n",
    "\n",
    "coef_df = pd.DataFrame(coef_dict)"
   ]
  },
  {
   "cell_type": "code",
   "execution_count": 115,
   "metadata": {
    "scrolled": true
   },
   "outputs": [
    {
     "data": {
      "text/html": [
       "<div>\n",
       "<style>\n",
       "    .dataframe thead tr:only-child th {\n",
       "        text-align: right;\n",
       "    }\n",
       "\n",
       "    .dataframe thead th {\n",
       "        text-align: left;\n",
       "    }\n",
       "\n",
       "    .dataframe tbody tr th {\n",
       "        vertical-align: top;\n",
       "    }\n",
       "</style>\n",
       "<table border=\"1\" class=\"dataframe\">\n",
       "  <thead>\n",
       "    <tr style=\"text-align: right;\">\n",
       "      <th></th>\n",
       "      <th>1</th>\n",
       "    </tr>\n",
       "  </thead>\n",
       "  <tbody>\n",
       "    <tr>\n",
       "      <th>dont</th>\n",
       "      <td>-9.621153</td>\n",
       "    </tr>\n",
       "    <tr>\n",
       "      <th>ur</th>\n",
       "      <td>-8.688117</td>\n",
       "    </tr>\n",
       "    <tr>\n",
       "      <th>thats</th>\n",
       "      <td>-6.921799</td>\n",
       "    </tr>\n",
       "    <tr>\n",
       "      <th>im</th>\n",
       "      <td>-6.437525</td>\n",
       "    </tr>\n",
       "    <tr>\n",
       "      <th>lol</th>\n",
       "      <td>-5.628680</td>\n",
       "    </tr>\n",
       "  </tbody>\n",
       "</table>\n",
       "</div>"
      ],
      "text/plain": [
       "              1\n",
       "dont  -9.621153\n",
       "ur    -8.688117\n",
       "thats -6.921799\n",
       "im    -6.437525\n",
       "lol   -5.628680"
      ]
     },
     "execution_count": 115,
     "metadata": {},
     "output_type": "execute_result"
    }
   ],
   "source": [
    "coef_df.sort_values(by=1).head()"
   ]
  },
  {
   "cell_type": "code",
   "execution_count": 116,
   "metadata": {
    "scrolled": true
   },
   "outputs": [
    {
     "data": {
      "text/html": [
       "<div>\n",
       "<style>\n",
       "    .dataframe thead tr:only-child th {\n",
       "        text-align: right;\n",
       "    }\n",
       "\n",
       "    .dataframe thead th {\n",
       "        text-align: left;\n",
       "    }\n",
       "\n",
       "    .dataframe tbody tr th {\n",
       "        vertical-align: top;\n",
       "    }\n",
       "</style>\n",
       "<table border=\"1\" class=\"dataframe\">\n",
       "  <thead>\n",
       "    <tr style=\"text-align: right;\">\n",
       "      <th></th>\n",
       "      <th>1</th>\n",
       "    </tr>\n",
       "  </thead>\n",
       "  <tbody>\n",
       "    <tr>\n",
       "      <th>inform</th>\n",
       "      <td>3.968602</td>\n",
       "    </tr>\n",
       "    <tr>\n",
       "      <th>aware</th>\n",
       "      <td>3.741387</td>\n",
       "    </tr>\n",
       "    <tr>\n",
       "      <th>significant</th>\n",
       "      <td>3.679125</td>\n",
       "    </tr>\n",
       "    <tr>\n",
       "      <th>attempt</th>\n",
       "      <td>3.635706</td>\n",
       "    </tr>\n",
       "    <tr>\n",
       "      <th>correct</th>\n",
       "      <td>3.436740</td>\n",
       "    </tr>\n",
       "  </tbody>\n",
       "</table>\n",
       "</div>"
      ],
      "text/plain": [
       "                    1\n",
       "inform       3.968602\n",
       "aware        3.741387\n",
       "significant  3.679125\n",
       "attempt      3.635706\n",
       "correct      3.436740"
      ]
     },
     "execution_count": 116,
     "metadata": {},
     "output_type": "execute_result"
    }
   ],
   "source": [
    "coef_df.sort_values(by=1, ascending=False).head()"
   ]
  },
  {
   "cell_type": "markdown",
   "metadata": {},
   "source": [
    "# Predicting on Vinod's data\n",
    "\n",
    "Labeling scheme:\n",
    "\n",
    "Sender:\n",
    "    - Female = 0\n",
    "    - Male = 1\n",
    "    \n",
    "Recipients:\n",
    "    - >66% female: 0\n",
    "    - 33%< and <66% female: 1\n",
    "    - <33% female: 2\n",
    "\n",
    "Combo:\n",
    "    - F-F: 0\n",
    "    - F-Mixed: 1\n",
    "    - F-M: 2\n",
    "    - M-F: 3\n",
    "    - M-Mixed: 4\n",
    "    - M-M: 5"
   ]
  },
  {
   "cell_type": "code",
   "execution_count": 42,
   "metadata": {
    "collapsed": true
   },
   "outputs": [],
   "source": [
    "import pickle"
   ]
  },
  {
   "cell_type": "code",
   "execution_count": 117,
   "metadata": {
    "collapsed": true
   },
   "outputs": [],
   "source": [
    "f_vinod = \"data/vinod/full_data_small.pkl\"\n",
    "with open(f_vinod, 'rb') as f:\n",
    "    df = pickle.load(f)"
   ]
  },
  {
   "cell_type": "code",
   "execution_count": 154,
   "metadata": {},
   "outputs": [],
   "source": [
    "# Compute ratio of recipient's genders\n",
    "def get_ratio(row):\n",
    "    n_male = 0\n",
    "    n_female = 0\n",
    "    total = 0\n",
    "    for g in row['to_gender'] + row['cc_gender']:\n",
    "        if g =='M':\n",
    "            n_male += 1\n",
    "        elif g == 'F':\n",
    "            n_female += 1\n",
    "        total += 1\n",
    "    \n",
    "    # Return the result, correct for div zero error\n",
    "    if n_male == 0 and n_female > 0:\n",
    "        # All female\n",
    "        return 1\n",
    "    elif n_female == 0:\n",
    "        # All indeterminate\n",
    "        return 0\n",
    "    else:\n",
    "        # Some balance, or all male\n",
    "        return n_female / n_male\n",
    "\n",
    "def bin_ratios(ratio):\n",
    "    if ratio > 2/3:\n",
    "        return 0\n",
    "    elif 1/3 < ratio < 2/3:\n",
    "        return 1\n",
    "    else:\n",
    "        return 2\n",
    "        "
   ]
  },
  {
   "cell_type": "code",
   "execution_count": 135,
   "metadata": {},
   "outputs": [
    {
     "data": {
      "text/html": [
       "<div>\n",
       "<style>\n",
       "    .dataframe thead tr:only-child th {\n",
       "        text-align: right;\n",
       "    }\n",
       "\n",
       "    .dataframe thead th {\n",
       "        text-align: left;\n",
       "    }\n",
       "\n",
       "    .dataframe tbody tr th {\n",
       "        vertical-align: top;\n",
       "    }\n",
       "</style>\n",
       "<table border=\"1\" class=\"dataframe\">\n",
       "  <thead>\n",
       "    <tr style=\"text-align: right;\">\n",
       "      <th></th>\n",
       "      <th>main_text</th>\n",
       "      <th>message_type</th>\n",
       "      <th>subject</th>\n",
       "      <th>from_id</th>\n",
       "      <th>to_ids</th>\n",
       "      <th>cc</th>\n",
       "      <th>from_gender</th>\n",
       "      <th>to_gender</th>\n",
       "      <th>cc_gender</th>\n",
       "      <th>from_employee_type</th>\n",
       "      <th>to_employee_type</th>\n",
       "      <th>cc_employee_type</th>\n",
       "      <th>to_power_rels</th>\n",
       "      <th>cc_power_rels</th>\n",
       "      <th>to_power_imds</th>\n",
       "      <th>cc_power_imds</th>\n",
       "    </tr>\n",
       "    <tr>\n",
       "      <th>uid</th>\n",
       "      <th></th>\n",
       "      <th></th>\n",
       "      <th></th>\n",
       "      <th></th>\n",
       "      <th></th>\n",
       "      <th></th>\n",
       "      <th></th>\n",
       "      <th></th>\n",
       "      <th></th>\n",
       "      <th></th>\n",
       "      <th></th>\n",
       "      <th></th>\n",
       "      <th></th>\n",
       "      <th></th>\n",
       "      <th></th>\n",
       "      <th></th>\n",
       "    </tr>\n",
       "  </thead>\n",
       "  <tbody>\n",
       "    <tr>\n",
       "      <th>1</th>\n",
       "      <td>So . . . you were looking for a one night stan...</td>\n",
       "      <td></td>\n",
       "      <td></td>\n",
       "      <td>29879</td>\n",
       "      <td>[14326]</td>\n",
       "      <td>[]</td>\n",
       "      <td>F</td>\n",
       "      <td>[M]</td>\n",
       "      <td>[]</td>\n",
       "      <td>NonEnron</td>\n",
       "      <td>[Core]</td>\n",
       "      <td>[]</td>\n",
       "      <td>[]</td>\n",
       "      <td>[]</td>\n",
       "      <td>[]</td>\n",
       "      <td>[]</td>\n",
       "    </tr>\n",
       "    <tr>\n",
       "      <th>2</th>\n",
       "      <td>Hey there Bill!\\n\\nI thought I'd drop a quick ...</td>\n",
       "      <td>INITIAL</td>\n",
       "      <td>Hello!</td>\n",
       "      <td>86690</td>\n",
       "      <td>[14326]</td>\n",
       "      <td>[]</td>\n",
       "      <td>F</td>\n",
       "      <td>[M]</td>\n",
       "      <td>[]</td>\n",
       "      <td>NonEnron</td>\n",
       "      <td>[Core]</td>\n",
       "      <td>[]</td>\n",
       "      <td>[]</td>\n",
       "      <td>[]</td>\n",
       "      <td>[]</td>\n",
       "      <td>[]</td>\n",
       "    </tr>\n",
       "    <tr>\n",
       "      <th>3</th>\n",
       "      <td>Group,\\nEES and I have not been receiving emai...</td>\n",
       "      <td>INITIAL</td>\n",
       "      <td>EES</td>\n",
       "      <td>14326</td>\n",
       "      <td>[78305, 30341, 2983, 687, 46676, 70629, 106450...</td>\n",
       "      <td>[]</td>\n",
       "      <td>M</td>\n",
       "      <td>[F, M, M, M, M, M, M, M, M, M, M, F, M]</td>\n",
       "      <td>[]</td>\n",
       "      <td>Core</td>\n",
       "      <td>[Core, NonCore, Core, NonCore, Core, NonCore, ...</td>\n",
       "      <td>[]</td>\n",
       "      <td>[]</td>\n",
       "      <td>[]</td>\n",
       "      <td>[]</td>\n",
       "      <td>[]</td>\n",
       "    </tr>\n",
       "    <tr>\n",
       "      <th>4</th>\n",
       "      <td>That is so rad Bill. I'm pretty jealous, but a...</td>\n",
       "      <td>RE</td>\n",
       "      <td>woohoo</td>\n",
       "      <td>3487</td>\n",
       "      <td>[14326]</td>\n",
       "      <td>[]</td>\n",
       "      <td>F</td>\n",
       "      <td>[M]</td>\n",
       "      <td>[]</td>\n",
       "      <td>NonCore</td>\n",
       "      <td>[Core]</td>\n",
       "      <td>[]</td>\n",
       "      <td>[]</td>\n",
       "      <td>[]</td>\n",
       "      <td>[]</td>\n",
       "      <td>[]</td>\n",
       "    </tr>\n",
       "    <tr>\n",
       "      <th>5</th>\n",
       "      <td>Group.\\nWe are short 25 mws under ST-WBOM in N...</td>\n",
       "      <td>INITIAL</td>\n",
       "      <td>Short for 05/04-05/05</td>\n",
       "      <td>14326</td>\n",
       "      <td>[78305, 2983, 687, 46676, 70629, 106450, 6971,...</td>\n",
       "      <td>[]</td>\n",
       "      <td>M</td>\n",
       "      <td>[F, M, M, M, M, M, M, M, M, M, F, M]</td>\n",
       "      <td>[]</td>\n",
       "      <td>Core</td>\n",
       "      <td>[Core, Core, NonCore, Core, NonCore, Core, Cor...</td>\n",
       "      <td>[]</td>\n",
       "      <td>[]</td>\n",
       "      <td>[]</td>\n",
       "      <td>[]</td>\n",
       "      <td>[]</td>\n",
       "    </tr>\n",
       "  </tbody>\n",
       "</table>\n",
       "</div>"
      ],
      "text/plain": [
       "                                             main_text message_type  \\\n",
       "uid                                                                   \n",
       "1    So . . . you were looking for a one night stan...                \n",
       "2    Hey there Bill!\\n\\nI thought I'd drop a quick ...      INITIAL   \n",
       "3    Group,\\nEES and I have not been receiving emai...      INITIAL   \n",
       "4    That is so rad Bill. I'm pretty jealous, but a...           RE   \n",
       "5    Group.\\nWe are short 25 mws under ST-WBOM in N...      INITIAL   \n",
       "\n",
       "                   subject from_id  \\\n",
       "uid                                  \n",
       "1                            29879   \n",
       "2                   Hello!   86690   \n",
       "3                      EES   14326   \n",
       "4                   woohoo    3487   \n",
       "5    Short for 05/04-05/05   14326   \n",
       "\n",
       "                                                to_ids  cc from_gender  \\\n",
       "uid                                                                      \n",
       "1                                              [14326]  []           F   \n",
       "2                                              [14326]  []           F   \n",
       "3    [78305, 30341, 2983, 687, 46676, 70629, 106450...  []           M   \n",
       "4                                              [14326]  []           F   \n",
       "5    [78305, 2983, 687, 46676, 70629, 106450, 6971,...  []           M   \n",
       "\n",
       "                                   to_gender cc_gender from_employee_type  \\\n",
       "uid                                                                         \n",
       "1                                        [M]        []           NonEnron   \n",
       "2                                        [M]        []           NonEnron   \n",
       "3    [F, M, M, M, M, M, M, M, M, M, M, F, M]        []               Core   \n",
       "4                                        [M]        []            NonCore   \n",
       "5       [F, M, M, M, M, M, M, M, M, M, F, M]        []               Core   \n",
       "\n",
       "                                      to_employee_type cc_employee_type  \\\n",
       "uid                                                                       \n",
       "1                                               [Core]               []   \n",
       "2                                               [Core]               []   \n",
       "3    [Core, NonCore, Core, NonCore, Core, NonCore, ...               []   \n",
       "4                                               [Core]               []   \n",
       "5    [Core, Core, NonCore, Core, NonCore, Core, Cor...               []   \n",
       "\n",
       "    to_power_rels cc_power_rels to_power_imds cc_power_imds  \n",
       "uid                                                          \n",
       "1              []            []            []            []  \n",
       "2              []            []            []            []  \n",
       "3              []            []            []            []  \n",
       "4              []            []            []            []  \n",
       "5              []            []            []            []  "
      ]
     },
     "execution_count": 135,
     "metadata": {},
     "output_type": "execute_result"
    }
   ],
   "source": [
    "df.head()"
   ]
  },
  {
   "cell_type": "code",
   "execution_count": 155,
   "metadata": {},
   "outputs": [],
   "source": [
    "ratios = df.apply(get_ratio, axis=1)"
   ]
  },
  {
   "cell_type": "code",
   "execution_count": 156,
   "metadata": {},
   "outputs": [],
   "source": [
    "ratio_bins = ratios.apply(bin_ratios)"
   ]
  },
  {
   "cell_type": "code",
   "execution_count": 157,
   "metadata": {},
   "outputs": [
    {
     "data": {
      "text/plain": [
       "Counter({0: 111578, 1: 17405, 2: 104439})"
      ]
     },
     "execution_count": 157,
     "metadata": {},
     "output_type": "execute_result"
    }
   ],
   "source": [
    "Counter(ratio_bins)"
   ]
  },
  {
   "cell_type": "code",
   "execution_count": 160,
   "metadata": {
    "collapsed": true
   },
   "outputs": [],
   "source": [
    "df['recipient_gender_ratio'] = ratios\n",
    "df['recipient_gender_ratio_label'] = ratio_bins\n",
    "df['gender_label'] = [0 if g == 'F' else 1 for g in df2['from_gender']]"
   ]
  },
  {
   "cell_type": "code",
   "execution_count": 161,
   "metadata": {},
   "outputs": [
    {
     "data": {
      "text/html": [
       "<div>\n",
       "<style>\n",
       "    .dataframe thead tr:only-child th {\n",
       "        text-align: right;\n",
       "    }\n",
       "\n",
       "    .dataframe thead th {\n",
       "        text-align: left;\n",
       "    }\n",
       "\n",
       "    .dataframe tbody tr th {\n",
       "        vertical-align: top;\n",
       "    }\n",
       "</style>\n",
       "<table border=\"1\" class=\"dataframe\">\n",
       "  <thead>\n",
       "    <tr style=\"text-align: right;\">\n",
       "      <th></th>\n",
       "      <th>main_text</th>\n",
       "      <th>message_type</th>\n",
       "      <th>subject</th>\n",
       "      <th>from_id</th>\n",
       "      <th>to_ids</th>\n",
       "      <th>cc</th>\n",
       "      <th>from_gender</th>\n",
       "      <th>to_gender</th>\n",
       "      <th>cc_gender</th>\n",
       "      <th>from_employee_type</th>\n",
       "      <th>to_employee_type</th>\n",
       "      <th>cc_employee_type</th>\n",
       "      <th>to_power_rels</th>\n",
       "      <th>cc_power_rels</th>\n",
       "      <th>to_power_imds</th>\n",
       "      <th>cc_power_imds</th>\n",
       "      <th>recipient_gender_ratio</th>\n",
       "      <th>recipient_gender_ratio_label</th>\n",
       "      <th>gender_label</th>\n",
       "    </tr>\n",
       "    <tr>\n",
       "      <th>uid</th>\n",
       "      <th></th>\n",
       "      <th></th>\n",
       "      <th></th>\n",
       "      <th></th>\n",
       "      <th></th>\n",
       "      <th></th>\n",
       "      <th></th>\n",
       "      <th></th>\n",
       "      <th></th>\n",
       "      <th></th>\n",
       "      <th></th>\n",
       "      <th></th>\n",
       "      <th></th>\n",
       "      <th></th>\n",
       "      <th></th>\n",
       "      <th></th>\n",
       "      <th></th>\n",
       "      <th></th>\n",
       "      <th></th>\n",
       "    </tr>\n",
       "  </thead>\n",
       "  <tbody>\n",
       "    <tr>\n",
       "      <th>1</th>\n",
       "      <td>So . . . you were looking for a one night stan...</td>\n",
       "      <td></td>\n",
       "      <td></td>\n",
       "      <td>29879</td>\n",
       "      <td>[14326]</td>\n",
       "      <td>[]</td>\n",
       "      <td>F</td>\n",
       "      <td>[M]</td>\n",
       "      <td>[]</td>\n",
       "      <td>NonEnron</td>\n",
       "      <td>[Core]</td>\n",
       "      <td>[]</td>\n",
       "      <td>[]</td>\n",
       "      <td>[]</td>\n",
       "      <td>[]</td>\n",
       "      <td>[]</td>\n",
       "      <td>0.0</td>\n",
       "      <td>2</td>\n",
       "      <td>0</td>\n",
       "    </tr>\n",
       "  </tbody>\n",
       "</table>\n",
       "</div>"
      ],
      "text/plain": [
       "                                             main_text message_type subject  \\\n",
       "uid                                                                           \n",
       "1    So . . . you were looking for a one night stan...                        \n",
       "\n",
       "    from_id   to_ids  cc from_gender to_gender cc_gender from_employee_type  \\\n",
       "uid                                                                           \n",
       "1     29879  [14326]  []           F       [M]        []           NonEnron   \n",
       "\n",
       "    to_employee_type cc_employee_type to_power_rels cc_power_rels  \\\n",
       "uid                                                                 \n",
       "1             [Core]               []            []            []   \n",
       "\n",
       "    to_power_imds cc_power_imds  recipient_gender_ratio  \\\n",
       "uid                                                       \n",
       "1              []            []                     0.0   \n",
       "\n",
       "     recipient_gender_ratio_label  gender_label  \n",
       "uid                                              \n",
       "1                               2             0  "
      ]
     },
     "execution_count": 161,
     "metadata": {},
     "output_type": "execute_result"
    }
   ],
   "source": [
    "df.head(1)"
   ]
  },
  {
   "cell_type": "code",
   "execution_count": 162,
   "metadata": {
    "collapsed": true
   },
   "outputs": [],
   "source": [
    "# Now build a combo label of m/f sender and m/mixed/f recipients\n",
    "def full_gender_label(row):\n",
    "    if row['gender_label']:  # Male\n",
    "        return 3 + row['recipient_gender_ratio_label']\n",
    "    else:  # Female\n",
    "        return row['recipient_gender_ratio_label']"
   ]
  },
  {
   "cell_type": "code",
   "execution_count": 163,
   "metadata": {
    "collapsed": true
   },
   "outputs": [],
   "source": [
    "df['full_labels'] = df.apply(full_gender_label, axis=1)"
   ]
  },
  {
   "cell_type": "code",
   "execution_count": 167,
   "metadata": {},
   "outputs": [
    {
     "data": {
      "text/plain": [
       "Counter({0: 63194, 1: 8184, 2: 29979, 3: 48384, 4: 9221, 5: 74460})"
      ]
     },
     "execution_count": 167,
     "metadata": {},
     "output_type": "execute_result"
    }
   ],
   "source": [
    "Counter(df['full_labels'])"
   ]
  },
  {
   "cell_type": "code",
   "execution_count": null,
   "metadata": {
    "collapsed": true
   },
   "outputs": [],
   "source": []
  },
  {
   "cell_type": "markdown",
   "metadata": {},
   "source": [
    "### Classification"
   ]
  },
  {
   "cell_type": "code",
   "execution_count": 118,
   "metadata": {},
   "outputs": [
    {
     "data": {
      "text/plain": [
       "Counter({'F': 101357, 'I': 22950, 'M': 132065})"
      ]
     },
     "execution_count": 118,
     "metadata": {},
     "output_type": "execute_result"
    }
   ],
   "source": [
    "# Class balance\n",
    "counts = Counter(df['from_gender'])\n",
    "counts"
   ]
  },
  {
   "cell_type": "code",
   "execution_count": 119,
   "metadata": {},
   "outputs": [],
   "source": [
    "# Filter out indeterminates\n",
    "df = df[df['from_gender'] != 'I']"
   ]
  },
  {
   "cell_type": "code",
   "execution_count": 120,
   "metadata": {
    "collapsed": true
   },
   "outputs": [],
   "source": [
    "# Predict formality\n",
    "text = df['main_text'].values\n",
    "gender_label = df['from_gender'].values"
   ]
  },
  {
   "cell_type": "code",
   "execution_count": 121,
   "metadata": {
    "collapsed": true
   },
   "outputs": [],
   "source": [
    "X = vec.transform(text)"
   ]
  },
  {
   "cell_type": "code",
   "execution_count": 122,
   "metadata": {},
   "outputs": [],
   "source": [
    "y_enron_pred = clf.predict(X)"
   ]
  },
  {
   "cell_type": "code",
   "execution_count": 168,
   "metadata": {},
   "outputs": [],
   "source": [
    "df['formality'] = y_enron_pred"
   ]
  },
  {
   "cell_type": "code",
   "execution_count": 186,
   "metadata": {},
   "outputs": [],
   "source": [
    "# Look at the correlation between formality and gender environment\n",
    "cm = confusion_matrix(df['full_labels'].values,\n",
    "                      df2['formality'].values)\n",
    "cm = cm * 1.\n",
    "cm = cm[:, :2]\n",
    "cm = cm/cm.sum(axis=1)[:,None]"
   ]
  },
  {
   "cell_type": "code",
   "execution_count": 187,
   "metadata": {},
   "outputs": [
    {
     "data": {
      "text/plain": [
       "array([[0.25034022, 0.74965978],\n",
       "       [0.15982405, 0.84017595],\n",
       "       [0.24443777, 0.75556223],\n",
       "       [0.23906663, 0.76093337],\n",
       "       [0.18544626, 0.81455374],\n",
       "       [0.23424658, 0.76575342]])"
      ]
     },
     "execution_count": 187,
     "metadata": {},
     "output_type": "execute_result"
    }
   ],
   "source": [
    "cm"
   ]
  },
  {
   "cell_type": "code",
   "execution_count": null,
   "metadata": {
    "collapsed": true
   },
   "outputs": [],
   "source": []
  }
 ],
 "metadata": {
  "kernelspec": {
   "display_name": "Python 3",
   "language": "python",
   "name": "python3"
  },
  "language_info": {
   "codemirror_mode": {
    "name": "ipython",
    "version": 3
   },
   "file_extension": ".py",
   "mimetype": "text/x-python",
   "name": "python",
   "nbconvert_exporter": "python",
   "pygments_lexer": "ipython3",
   "version": "3.6.3"
  }
 },
 "nbformat": 4,
 "nbformat_minor": 2
}
