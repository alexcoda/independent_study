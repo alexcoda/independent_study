{
 "cells": [
  {
   "cell_type": "code",
   "execution_count": null,
   "metadata": {
    "collapsed": true
   },
   "outputs": [],
   "source": [
    "import pandas as pd\n",
    "from collections import Counter"
   ]
  },
  {
   "cell_type": "markdown",
   "metadata": {},
   "source": [
    "Steps:\n",
    "- Clean out separate sections of csv into columns\n",
    "- Apply gender inference\n",
    "\n",
    "Ideas:\n",
    "- Organize by MFSI\n",
    "     - See if we can classify which of these groups a given email belongs to\n",
    "- Classify individuals by their gender/power level\n",
    "- Do stuff as structured prediction b/c all wrong labels aren't equally wrong\n",
    "- Characterize what words/topics exist for different types of interactions\n",
    "- Look for words used more often for men/women\n",
    "- 'Sentiment' across email chains. What makes a conversation switch tones. Or enter in a bad way\n",
    "- Time series? Reply time to emails.\n",
    "- Reply length depending on power diff."
   ]
  },
  {
   "cell_type": "code",
   "execution_count": null,
   "metadata": {},
   "outputs": [],
   "source": [
    "PATH = 'data/'\n",
    "fname = f\"{PATH}raw_emails.csv\"\n",
    "df = pd.read_csv(fname)"
   ]
  },
  {
   "cell_type": "code",
   "execution_count": null,
   "metadata": {
    "scrolled": true
   },
   "outputs": [],
   "source": [
    "df.head()"
   ]
  },
  {
   "cell_type": "code",
   "execution_count": null,
   "metadata": {},
   "outputs": [],
   "source": [
    "lines = df['message'][0].split('\\n')"
   ]
  },
  {
   "cell_type": "code",
   "execution_count": null,
   "metadata": {
    "scrolled": false
   },
   "outputs": [],
   "source": [
    "lines"
   ]
  },
  {
   "cell_type": "code",
   "execution_count": null,
   "metadata": {
    "collapsed": true
   },
   "outputs": [],
   "source": [
    "def format_raw_text(text):\n",
    "    lines = text.split('\\n')\n",
    "    \n",
    "    message_id = float('.'.join(lines[0][13:].split('.')[:2]))\n",
    "    date = lines[1][6:]\n",
    "    \n",
    "    from_email = lines[2][6:]\n",
    "    to_email = lines[3][4:]\n",
    "    \n",
    "    from_name = lines[8][8:]\n",
    "    to_name = lines[9][6:]\n",
    "    cc_name = lines[10][6:]\n",
    "    bcc_name = lines[11][7:]\n",
    "    \n",
    "    folder = lines[12][10:]\n",
    "    \n",
    "    raw_text = '\\n'.join(lines[15:]).strip()\n",
    "    \n",
    "    return {message_id: {'date': date,\n",
    "                         'from_email': from_email,\n",
    "                         'to_email': to_email,\n",
    "                         'from_name': from_name,\n",
    "                         'to_name': to_name,\n",
    "                         'cc_name': cc_name,\n",
    "                         'bcc_name': bcc_name,\n",
    "                         'folder': folder,\n",
    "                         'raw_text': raw_text}}\n",
    "    "
   ]
  },
  {
   "cell_type": "code",
   "execution_count": null,
   "metadata": {},
   "outputs": [],
   "source": [
    "dict_result = {k: v for d in df['message'].apply(format_raw_text).values\n",
    "              for k, v in d.items()}"
   ]
  },
  {
   "cell_type": "code",
   "execution_count": null,
   "metadata": {},
   "outputs": [],
   "source": [
    "results = pd.DataFrame(dict_result).T"
   ]
  },
  {
   "cell_type": "code",
   "execution_count": null,
   "metadata": {},
   "outputs": [],
   "source": [
    "out_path = f\"{PATH}cleaned_emails.csv\"\n",
    "results.to_csv(out_path)"
   ]
  },
  {
   "cell_type": "code",
   "execution_count": null,
   "metadata": {},
   "outputs": [],
   "source": [
    "results"
   ]
  },
  {
   "cell_type": "code",
   "execution_count": null,
   "metadata": {
    "collapsed": true
   },
   "outputs": [],
   "source": []
  }
 ],
 "metadata": {
  "kernelspec": {
   "display_name": "Python 3",
   "language": "python",
   "name": "python3"
  },
  "language_info": {
   "codemirror_mode": {
    "name": "ipython",
    "version": 3
   },
   "file_extension": ".py",
   "mimetype": "text/x-python",
   "name": "python",
   "nbconvert_exporter": "python",
   "pygments_lexer": "ipython3",
   "version": "3.6.3"
  }
 },
 "nbformat": 4,
 "nbformat_minor": 2
}
