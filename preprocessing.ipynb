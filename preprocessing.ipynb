{
 "cells": [
  {
   "cell_type": "code",
   "execution_count": null,
   "metadata": {
    "scrolled": true
   },
   "outputs": [],
   "source": [
    "%load_ext autoreload\n",
    "%autoreload 2"
   ]
  },
  {
   "cell_type": "code",
   "execution_count": null,
   "metadata": {},
   "outputs": [],
   "source": [
    "import pandas as pd\n",
    "from collections import Counter\n",
    "from tqdm import tqdm, tqdm_notebook\n",
    "\n",
    "# Local imports\n",
    "from preprocessing import clean_entry"
   ]
  },
  {
   "cell_type": "markdown",
   "metadata": {},
   "source": [
    "# Load data"
   ]
  },
  {
   "cell_type": "code",
   "execution_count": null,
   "metadata": {
    "collapsed": true
   },
   "outputs": [],
   "source": [
    "PATH = 'data/'\n",
    "fname = f\"{PATH}raw_emails.csv\"\n",
    "df = pd.read_csv(fname)"
   ]
  },
  {
   "cell_type": "markdown",
   "metadata": {},
   "source": [
    "# Clean base data"
   ]
  },
  {
   "cell_type": "code",
   "execution_count": null,
   "metadata": {
    "scrolled": true
   },
   "outputs": [],
   "source": [
    "df.head()"
   ]
  },
  {
   "cell_type": "code",
   "execution_count": null,
   "metadata": {},
   "outputs": [],
   "source": [
    "results_dict = {}\n",
    "for row in tqdm_notebook(df.iterrows()):\n",
    "    message_id, contents = clean_entry(*row)\n",
    "    results_dict[message_id] = contents"
   ]
  },
  {
   "cell_type": "code",
   "execution_count": null,
   "metadata": {},
   "outputs": [],
   "source": [
    "%%time\n",
    "# Takes ~1:30\n",
    "results = pd.DataFrame(results_dict).T"
   ]
  },
  {
   "cell_type": "code",
   "execution_count": null,
   "metadata": {
    "collapsed": true
   },
   "outputs": [],
   "source": [
    "# Re-organize the resulting dataframe\n",
    "new_cols = ['date', 'from_email', 'message_id', 'subject', 'to_email',\n",
    "            'from_name', 'to_name', 'bcc_name', 'cc_name', 'fname_prefix',\n",
    "            'orig_fname', 'orig_i', 'email_content']\n",
    "results.columns = new_cols\n",
    "results.index.name = 'message_id'\n",
    "\n",
    "results.sort_values('orig_i', inplace=True)\n",
    "results.drop(['message_id', 'orig_i'], axis=1, inplace=True)\n",
    "\n",
    "results = results[['date', 'from_email', 'to_email', 'subject',\n",
    "                   'email_content', 'from_name', 'to_name', 'cc_name',\n",
    "                   'bcc_name', 'orig_fname', 'fname_prefix']]"
   ]
  },
  {
   "cell_type": "code",
   "execution_count": null,
   "metadata": {
    "collapsed": true
   },
   "outputs": [],
   "source": [
    "out_path = f\"{PATH}cleaned_emails.csv\"\n",
    "results.to_csv(out_path)"
   ]
  },
  {
   "cell_type": "code",
   "execution_count": null,
   "metadata": {
    "scrolled": true
   },
   "outputs": [],
   "source": [
    "results.head()"
   ]
  },
  {
   "cell_type": "code",
   "execution_count": null,
   "metadata": {
    "collapsed": true
   },
   "outputs": [],
   "source": []
  }
 ],
 "metadata": {
  "kernelspec": {
   "display_name": "Python 3",
   "language": "python",
   "name": "python3"
  },
  "language_info": {
   "codemirror_mode": {
    "name": "ipython",
    "version": 3
   },
   "file_extension": ".py",
   "mimetype": "text/x-python",
   "name": "python",
   "nbconvert_exporter": "python",
   "pygments_lexer": "ipython3",
   "version": "3.6.3"
  }
 },
 "nbformat": 4,
 "nbformat_minor": 2
}
