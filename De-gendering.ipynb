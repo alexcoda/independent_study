{
 "cells": [
  {
   "cell_type": "markdown",
   "metadata": {},
   "source": [
    "# De-gending text\n",
    "\n",
    "Steps:\n",
    "1. Load data for each different corpus into consistent format\n",
    "    - Enron\n",
    "    - X RtGender\n",
    "2. X Train-Dev-Test Split on all of them\n",
    "3. X Build TF-IDF vectorizors on all training datasets\n",
    "4. X Build gender classifiers on all training datasets\n",
    "5. Use a count-vectorizer to build the Delete Procedure\n",
    "    - One vectorizer for each (male/female)\n",
    "    - Use this to create a dict mapping each word to its count value\n",
    "    - Lambda = 1; gamma = 5 (to start)\n",
    "    - Then use a function to look up the count ratio for each word given a sentence\n",
    "6. Make a similarity function - TF-IDF weighted word overlap between sentences.\n",
    "    - Maybe pairwise pre-compute this for all combos?\n",
    "7. Make Retrieve functions\n",
    "    - First one that retrieves the most similar sentence in the target attribute\n",
    "    - Next one that gets the top few sentences, and replaces the attributes in the source sentence one at a time with attributes in the target sentence(s)\n",
    "    \n",
    "Experiments:\n",
    "1. Do each of these individually, end-to-end\n",
    "2. Do each combination of applying different de-gendering systems to each other dataset. Apply the datasets trained gender classifier, and look at drop in acc, F1, and change in confusion matrix vs. before"
   ]
  },
  {
   "cell_type": "code",
   "execution_count": null,
   "metadata": {
    "collapsed": true
   },
   "outputs": [],
   "source": [
    "%load_ext autoreload\n",
    "%autoreload 2"
   ]
  },
  {
   "cell_type": "code",
   "execution_count": null,
   "metadata": {
    "collapsed": true
   },
   "outputs": [],
   "source": [
    "%matplotlib inline\n",
    "import matplotlib.pyplot as plt\n",
    "import seaborn as sns\n",
    "sns.set_style('whitegrid')"
   ]
  },
  {
   "cell_type": "code",
   "execution_count": null,
   "metadata": {
    "collapsed": true
   },
   "outputs": [],
   "source": [
    "# Local imports\n",
    "from dataset import Dataset"
   ]
  },
  {
   "cell_type": "code",
   "execution_count": null,
   "metadata": {
    "scrolled": true
   },
   "outputs": [],
   "source": [
    "PATH = 'data/rt_gender/'\n",
    "ds = Dataset('fitocracy_responses', PATH)"
   ]
  },
  {
   "cell_type": "code",
   "execution_count": null,
   "metadata": {
    "scrolled": true
   },
   "outputs": [],
   "source": [
    "ds.report_clf_results()"
   ]
  },
  {
   "cell_type": "code",
   "execution_count": null,
   "metadata": {},
   "outputs": [],
   "source": [
    "dev_pred_proba = ds.clf.predict_proba(ds.vecs.dev)\n",
    "\n",
    "is_female = ds.labels.dev\n",
    "is_male = 1 - ds.labels.dev\n",
    "\n",
    "female_proba = dev_pred_proba[:, 1]\n",
    "male_proba = dev_pred_proba[:, 0]\n",
    "\n",
    "is_female_f_prob = [p for p, g in zip(female_proba, is_female)\n",
    "                    if g]\n",
    "is_female_m_prob = [p for p, g in zip(female_proba, is_male)\n",
    "                    if g]\n",
    "\n",
    "plt.hist([is_female_f_prob, is_female_m_prob], stacked=True)\n",
    "plt.title(ds.name)\n",
    "plt.show()"
   ]
  },
  {
   "cell_type": "code",
   "execution_count": null,
   "metadata": {},
   "outputs": [],
   "source": [
    "# Fitocracy\n",
    "plt.hist([is_female_f_prob, is_female_m_prob], stacked=True)\n",
    "plt.show()"
   ]
  },
  {
   "cell_type": "code",
   "execution_count": null,
   "metadata": {
    "collapsed": true
   },
   "outputs": [],
   "source": []
  },
  {
   "cell_type": "code",
   "execution_count": null,
   "metadata": {
    "collapsed": true
   },
   "outputs": [],
   "source": []
  },
  {
   "cell_type": "code",
   "execution_count": null,
   "metadata": {
    "collapsed": true
   },
   "outputs": [],
   "source": [
    "ds.save_pickle()"
   ]
  },
  {
   "cell_type": "code",
   "execution_count": null,
   "metadata": {
    "collapsed": true
   },
   "outputs": [],
   "source": []
  },
  {
   "cell_type": "markdown",
   "metadata": {},
   "source": [
    "# Now for Enron"
   ]
  },
  {
   "cell_type": "code",
   "execution_count": null,
   "metadata": {
    "collapsed": true
   },
   "outputs": [],
   "source": [
    "from collections import Counter"
   ]
  },
  {
   "cell_type": "code",
   "execution_count": null,
   "metadata": {
    "collapsed": true
   },
   "outputs": [],
   "source": [
    "name = 'enron'\n",
    "PATH = 'data/vinod/'"
   ]
  },
  {
   "cell_type": "code",
   "execution_count": null,
   "metadata": {
    "scrolled": true
   },
   "outputs": [],
   "source": [
    "ds = Dataset('enron', PATH, text_col='main_text', sender_col='from_gender',\n",
    "             recipient_col='to_gender')#, predict_on_sender=False,\n",
    "             #sender_gender='M')"
   ]
  },
  {
   "cell_type": "code",
   "execution_count": null,
   "metadata": {},
   "outputs": [],
   "source": [
    "ds.report_clf_results()"
   ]
  },
  {
   "cell_type": "code",
   "execution_count": null,
   "metadata": {},
   "outputs": [],
   "source": [
    "dev_pred_proba = ds.clf.predict_proba(ds.vecs.dev)\n",
    "\n",
    "is_female = ds.labels.dev\n",
    "is_male = 1 - ds.labels.dev\n",
    "\n",
    "female_proba = dev_pred_proba[:, 1]\n",
    "male_proba = dev_pred_proba[:, 0]\n",
    "\n",
    "is_female_f_prob = [p for p, g in zip(female_proba, is_female)\n",
    "                    if g]\n",
    "is_female_m_prob = [p for p, g in zip(female_proba, is_male)\n",
    "                    if g]\n",
    "\n",
    "plt.hist([is_female_f_prob, is_female_m_prob], stacked=True)\n",
    "plt.show()"
   ]
  },
  {
   "cell_type": "code",
   "execution_count": null,
   "metadata": {},
   "outputs": [],
   "source": [
    "ds.save_pickle()"
   ]
  },
  {
   "cell_type": "code",
   "execution_count": null,
   "metadata": {
    "collapsed": true
   },
   "outputs": [],
   "source": []
  },
  {
   "cell_type": "code",
   "execution_count": null,
   "metadata": {
    "collapsed": true
   },
   "outputs": [],
   "source": [
    "# How to load Datasets\n",
    "ds = Dataset.load_pickle('data/final/enron_dataset.pkl')"
   ]
  },
  {
   "cell_type": "code",
   "execution_count": null,
   "metadata": {
    "collapsed": true
   },
   "outputs": [],
   "source": []
  },
  {
   "cell_type": "code",
   "execution_count": null,
   "metadata": {
    "collapsed": true
   },
   "outputs": [],
   "source": []
  },
  {
   "cell_type": "code",
   "execution_count": null,
   "metadata": {
    "collapsed": true
   },
   "outputs": [],
   "source": []
  },
  {
   "cell_type": "code",
   "execution_count": null,
   "metadata": {
    "collapsed": true
   },
   "outputs": [],
   "source": []
  },
  {
   "cell_type": "markdown",
   "metadata": {},
   "source": [
    "# TODO\n",
    "- X Get the counts for each word (naive-bayes counts)\n",
    "    - Transform into logspace\n",
    "- Set a gamma threshold\n",
    "- For each sentence, split into context, attributes by this threshold"
   ]
  },
  {
   "cell_type": "code",
   "execution_count": null,
   "metadata": {
    "collapsed": true
   },
   "outputs": [],
   "source": [
    "from dataset import TransformedDataset"
   ]
  },
  {
   "cell_type": "code",
   "execution_count": null,
   "metadata": {
    "scrolled": false
   },
   "outputs": [],
   "source": [
    "t_dataset = TransformedDataset(ds, 3, 1)"
   ]
  },
  {
   "cell_type": "code",
   "execution_count": null,
   "metadata": {
    "collapsed": true
   },
   "outputs": [],
   "source": []
  },
  {
   "cell_type": "code",
   "execution_count": null,
   "metadata": {
    "collapsed": true
   },
   "outputs": [],
   "source": [
    "wc_df = t_dataset.wc_df"
   ]
  },
  {
   "cell_type": "code",
   "execution_count": null,
   "metadata": {},
   "outputs": [],
   "source": [
    "wc_df.head()"
   ]
  },
  {
   "cell_type": "code",
   "execution_count": null,
   "metadata": {},
   "outputs": [],
   "source": [
    "plt.hist(attrs, bins=50)\n",
    "plt.show()"
   ]
  },
  {
   "cell_type": "code",
   "execution_count": null,
   "metadata": {
    "collapsed": true
   },
   "outputs": [],
   "source": []
  },
  {
   "cell_type": "code",
   "execution_count": null,
   "metadata": {
    "collapsed": true
   },
   "outputs": [],
   "source": []
  },
  {
   "cell_type": "code",
   "execution_count": null,
   "metadata": {},
   "outputs": [],
   "source": [
    "t_dataset.male_splits.train.iloc[0]"
   ]
  },
  {
   "cell_type": "code",
   "execution_count": null,
   "metadata": {
    "collapsed": true
   },
   "outputs": [],
   "source": []
  },
  {
   "cell_type": "code",
   "execution_count": null,
   "metadata": {
    "collapsed": true
   },
   "outputs": [],
   "source": []
  },
  {
   "cell_type": "code",
   "execution_count": null,
   "metadata": {
    "collapsed": true
   },
   "outputs": [],
   "source": []
  },
  {
   "cell_type": "markdown",
   "metadata": {},
   "source": [
    "# Evaluating baseline performance"
   ]
  },
  {
   "cell_type": "code",
   "execution_count": null,
   "metadata": {
    "collapsed": true
   },
   "outputs": [],
   "source": [
    "from sklearn.metrics import classification_report, accuracy_score"
   ]
  },
  {
   "cell_type": "code",
   "execution_count": null,
   "metadata": {
    "collapsed": true,
    "scrolled": true
   },
   "outputs": [],
   "source": [
    "train_pred = fitocracy.clf.predict(fitocracy.vecs.train)\n",
    "dev_pred = fitocracy.clf.predict(fitocracy.vecs.dev)"
   ]
  },
  {
   "cell_type": "code",
   "execution_count": null,
   "metadata": {
    "collapsed": true
   },
   "outputs": [],
   "source": [
    "print(classification_report(fitocracy.labels.train, train_pred))"
   ]
  },
  {
   "cell_type": "code",
   "execution_count": null,
   "metadata": {
    "collapsed": true
   },
   "outputs": [],
   "source": [
    "print(classification_report(fitocracy.labels.dev, dev_pred))"
   ]
  },
  {
   "cell_type": "markdown",
   "metadata": {
    "collapsed": true
   },
   "source": [
    "# Building the count vectorizer"
   ]
  },
  {
   "cell_type": "code",
   "execution_count": null,
   "metadata": {
    "collapsed": true
   },
   "outputs": [],
   "source": [
    "from sklearn.feature_extraction.text import CountVectorizer\n",
    "import matplotlib.pyplot as plt\n",
    "import pandas as pd\n",
    "import numpy as np"
   ]
  },
  {
   "cell_type": "code",
   "execution_count": null,
   "metadata": {
    "collapsed": true
   },
   "outputs": [],
   "source": [
    "lambd = 1"
   ]
  },
  {
   "cell_type": "code",
   "execution_count": null,
   "metadata": {
    "collapsed": true
   },
   "outputs": [],
   "source": [
    "# Split male/female\n",
    "male_df = fitocracy.df[fitocracy.df['responder_gender'] == 'M']\n",
    "female_df = fitocracy.df[fitocracy.df['responder_gender'] == 'W']"
   ]
  },
  {
   "cell_type": "code",
   "execution_count": null,
   "metadata": {
    "collapsed": true
   },
   "outputs": [],
   "source": [
    "male_count_vectorizer = CountVectorizer(min_df=10).fit(male_df['response_text'])\n",
    "female_count_vectorizer = CountVectorizer(min_df=10).fit(female_df['response_text'])"
   ]
  },
  {
   "cell_type": "code",
   "execution_count": null,
   "metadata": {
    "collapsed": true
   },
   "outputs": [],
   "source": [
    "m_word_counts = np.array(male_count_vectorizer.transform(\n",
    "    [' '.join(male_df['response_text'])]).todense())[0]\n",
    "f_word_counts = np.array(female_count_vectorizer.transform(\n",
    "    [' '.join(female_df['response_text'])]).todense())[0]"
   ]
  },
  {
   "cell_type": "code",
   "execution_count": null,
   "metadata": {
    "collapsed": true
   },
   "outputs": [],
   "source": [
    "m_features = male_count_vectorizer.get_feature_names()\n",
    "f_features = female_count_vectorizer.get_feature_names()"
   ]
  },
  {
   "cell_type": "code",
   "execution_count": null,
   "metadata": {
    "collapsed": true
   },
   "outputs": [],
   "source": [
    "f_df = pd.DataFrame(f_word_counts, index=f_features, columns=['female_count'])\n",
    "m_df = pd.DataFrame(m_word_counts, index=m_features, columns=['male_count'])\n",
    "full_df = pd.concat([f_df, m_df], axis=1)\n",
    "full_df.fillna(0, inplace=True)\n",
    "full_df['female_ratio'] = ((full_df['female_count'] + lambd) /\n",
    "                    (full_df['male_count'] + lambd))\n",
    "full_df['male_ratio'] = ((full_df['male_count'] + lambd) /\n",
    "                    (full_df['female_count'] + lambd))"
   ]
  },
  {
   "cell_type": "code",
   "execution_count": null,
   "metadata": {
    "collapsed": true
   },
   "outputs": [],
   "source": [
    "word_set = set(full_df.index)"
   ]
  },
  {
   "cell_type": "markdown",
   "metadata": {},
   "source": [
    "# Determining which words to replace\n",
    "\n",
    "Given a sentence score each word, and if it is above gamma in favor of the current gender"
   ]
  },
  {
   "cell_type": "code",
   "execution_count": null,
   "metadata": {
    "collapsed": true
   },
   "outputs": [],
   "source": [
    "gamma = 5"
   ]
  },
  {
   "cell_type": "code",
   "execution_count": null,
   "metadata": {
    "collapsed": true
   },
   "outputs": [],
   "source": [
    "def score_words(row):\n",
    "    text = row['response_text']\n",
    "    gender = row['responder_gender']\n",
    "    gender_col = 'female_ratio' if gender=='W' else 'male_ratio'\n",
    "    \n",
    "    vals = []\n",
    "    \n",
    "    for word in text.lower().split(' '):\n",
    "        if word in word_set:\n",
    "            val = full_df[gender_col][word]\n",
    "            vals.append(val)\n",
    "        else:\n",
    "            vals.append(-1)\n",
    "    return vals"
   ]
  },
  {
   "cell_type": "code",
   "execution_count": null,
   "metadata": {
    "collapsed": true
   },
   "outputs": [],
   "source": [
    "score_words(fitocracy.df.iloc[0])"
   ]
  },
  {
   "cell_type": "code",
   "execution_count": null,
   "metadata": {
    "collapsed": true
   },
   "outputs": [],
   "source": [
    "word_vecs = [score_words(row) for i, row in male_df[:10_000].iterrows()]"
   ]
  },
  {
   "cell_type": "code",
   "execution_count": null,
   "metadata": {
    "collapsed": true
   },
   "outputs": [],
   "source": [
    "full_df[full_df['male_ratio'] < 5]['male_ratio'].hist(bins=20)\n",
    "plt.show()"
   ]
  },
  {
   "cell_type": "markdown",
   "metadata": {},
   "source": [
    "# Replace some of these words"
   ]
  },
  {
   "cell_type": "code",
   "execution_count": null,
   "metadata": {
    "collapsed": true
   },
   "outputs": [],
   "source": [
    "m_df_subset = male_df[:10_000]"
   ]
  },
  {
   "cell_type": "code",
   "execution_count": null,
   "metadata": {
    "collapsed": true
   },
   "outputs": [],
   "source": [
    "# For now just sample a random word that biases male\n",
    "sentences = [text.split(' ') for text in m_df_subset['response_text']]"
   ]
  },
  {
   "cell_type": "code",
   "execution_count": null,
   "metadata": {
    "collapsed": true
   },
   "outputs": [],
   "source": [
    "male_sampler = full_df[full_df['male_ratio'] > 1]\n",
    "female_sampler = full_df[full_df['female_ratio'] > 1]\n",
    "\n",
    "def get_random_word(gender):\n",
    "    if gender == 'male':\n",
    "        return male_sampler.sample(1).index[0]\n",
    "    else:\n",
    "        return female_sampler.sample(1).index[0]"
   ]
  },
  {
   "cell_type": "code",
   "execution_count": null,
   "metadata": {
    "collapsed": true
   },
   "outputs": [],
   "source": [
    "from tqdm import tqdm, tqdm_notebook"
   ]
  },
  {
   "cell_type": "code",
   "execution_count": null,
   "metadata": {
    "collapsed": true,
    "scrolled": true
   },
   "outputs": [],
   "source": [
    "n_words_seen = 0\n",
    "n_words_changed = 0\n",
    "\n",
    "for sent, vals in tqdm_notebook(zip(sentences, word_vecs)):\n",
    "    for i, val in enumerate(vals):\n",
    "        n_words_seen += 1\n",
    "        if val > 1.2:\n",
    "            n_words_changed += 1\n",
    "            sent[i] = get_random_word('female')"
   ]
  },
  {
   "cell_type": "code",
   "execution_count": null,
   "metadata": {
    "collapsed": true
   },
   "outputs": [],
   "source": [
    "print(n_words_changed, '/', n_words_seen)"
   ]
  },
  {
   "cell_type": "code",
   "execution_count": null,
   "metadata": {
    "collapsed": true
   },
   "outputs": [],
   "source": [
    "print(n_words_changed, '/', n_words_seen)"
   ]
  },
  {
   "cell_type": "code",
   "execution_count": null,
   "metadata": {
    "collapsed": true
   },
   "outputs": [],
   "source": [
    "transformed_sentences = [' '.join(sent) for sent in sentences]"
   ]
  },
  {
   "cell_type": "code",
   "execution_count": null,
   "metadata": {
    "collapsed": true,
    "scrolled": true
   },
   "outputs": [],
   "source": [
    "transformed_sentences[:15]"
   ]
  },
  {
   "cell_type": "markdown",
   "metadata": {},
   "source": [
    "# Now compare the prediction on these changes"
   ]
  },
  {
   "cell_type": "code",
   "execution_count": null,
   "metadata": {
    "collapsed": true
   },
   "outputs": [],
   "source": [
    "original_vecs = fitocracy.vectorizer.transform(m_df_subset['response_text'])\n",
    "transformed_vecs = fitocracy.vectorizer.transform(transformed_sentences)"
   ]
  },
  {
   "cell_type": "code",
   "execution_count": null,
   "metadata": {
    "collapsed": true,
    "scrolled": true
   },
   "outputs": [],
   "source": [
    "true_labels = [0] * 10_000\n",
    "orig_pred_labels = fitocracy.clf.predict(original_vecs)\n",
    "trans_pred_labels = fitocracy.clf.predict(transformed_vecs)"
   ]
  },
  {
   "cell_type": "code",
   "execution_count": null,
   "metadata": {
    "collapsed": true
   },
   "outputs": [],
   "source": [
    "# Male\n",
    "print(classification_report(true_labels, orig_pred_labels))\n",
    "print(accuracy_score(true_labels, orig_pred_labels))"
   ]
  },
  {
   "cell_type": "code",
   "execution_count": null,
   "metadata": {
    "collapsed": true
   },
   "outputs": [],
   "source": [
    "# Male\n",
    "print(classification_report(true_labels, trans_pred_labels))\n",
    "print(accuracy_score(true_labels, trans_pred_labels))"
   ]
  },
  {
   "cell_type": "code",
   "execution_count": null,
   "metadata": {
    "collapsed": true
   },
   "outputs": [],
   "source": [
    "# Female\n",
    "print(classification_report(true_labels, orig_pred_labels))\n",
    "print(accuracy_score(true_labels, orig_pred_labels))"
   ]
  },
  {
   "cell_type": "code",
   "execution_count": null,
   "metadata": {
    "collapsed": true
   },
   "outputs": [],
   "source": [
    "# Female\n",
    "print(classification_report(true_labels, trans_pred_labels))\n",
    "print(accuracy_score(true_labels, trans_pred_labels))"
   ]
  },
  {
   "cell_type": "code",
   "execution_count": null,
   "metadata": {
    "collapsed": true
   },
   "outputs": [],
   "source": []
  }
 ],
 "metadata": {
  "kernelspec": {
   "display_name": "Python 3",
   "language": "python",
   "name": "python3"
  },
  "language_info": {
   "codemirror_mode": {
    "name": "ipython",
    "version": 3
   },
   "file_extension": ".py",
   "mimetype": "text/x-python",
   "name": "python",
   "nbconvert_exporter": "python",
   "pygments_lexer": "ipython3",
   "version": "3.6.3"
  }
 },
 "nbformat": 4,
 "nbformat_minor": 2
}
