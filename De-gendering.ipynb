{
 "cells": [
  {
   "cell_type": "markdown",
   "metadata": {},
   "source": [
    "# De-gending text\n",
    "\n",
    "Steps:\n",
    "1. Load data for each different corpus into consistent format\n",
    "    - Enron\n",
    "    - X RtGender\n",
    "2. X Train-Dev-Test Split on all of them\n",
    "3. X Build TF-IDF vectorizors on all training datasets\n",
    "4. X Build gender classifiers on all training datasets\n",
    "5. Use a count-vectorizer to build the Delete Procedure\n",
    "    - One vectorizer for each (male/female)\n",
    "    - Use this to create a dict mapping each word to its count value\n",
    "    - Lambda = 1; gamma = 5 (to start)\n",
    "    - Then use a function to look up the count ratio for each word given a sentence\n",
    "6. Make a similarity function - TF-IDF weighted word overlap between sentences.\n",
    "    - Maybe pairwise pre-compute this for all combos?\n",
    "7. Make Retrieve functions\n",
    "    - First one that retrieves the most similar sentence in the target attribute\n",
    "    - Next one that gets the top few sentences, and replaces the attributes in the source sentence one at a time with attributes in the target sentence(s)\n",
    "    \n",
    "Experiments:\n",
    "1. Do each of these individually, end-to-end\n",
    "2. Do each combination of applying different de-gendering systems to each other dataset. Apply the datasets trained gender classifier, and look at drop in acc, F1, and change in confusion matrix vs. before"
   ]
  },
  {
   "cell_type": "code",
   "execution_count": 1,
   "metadata": {
    "collapsed": true
   },
   "outputs": [],
   "source": [
    "%load_ext autoreload\n",
    "%autoreload 2"
   ]
  },
  {
   "cell_type": "code",
   "execution_count": 89,
   "metadata": {},
   "outputs": [],
   "source": [
    "# Local imports\n",
    "from dataset import Dataset"
   ]
  },
  {
   "cell_type": "code",
   "execution_count": 96,
   "metadata": {
    "scrolled": true
   },
   "outputs": [
    {
     "name": "stdout",
     "output_type": "stream",
     "text": [
      "Loading the dataset...\n",
      "Cleaning data...\n",
      "Making data splits...\n",
      "Training the vectorizer...\n",
      "Transforming the vectors...\n"
     ]
    },
    {
     "name": "stderr",
     "output_type": "stream",
     "text": [
      "C:\\Users\\Alex\\Documents\\School\\Fall 2018\\independent_study\\dataset.py:133: SettingWithCopyWarning: \n",
      "A value is trying to be set on a copy of a slice from a DataFrame.\n",
      "Try using .loc[row_indexer,col_indexer] = value instead\n",
      "\n",
      "See the caveats in the documentation: http://pandas.pydata.org/pandas-docs/stable/indexing.html#indexing-view-versus-copy\n",
      "  self.splits.test['label_col'] = test_labels\n"
     ]
    },
    {
     "name": "stdout",
     "output_type": "stream",
     "text": [
      "Training a base classifier...\n",
      "Done initializing fitocracy_responses dataset!\n"
     ]
    }
   ],
   "source": [
    "PATH = 'data/rt_gender/'\n",
    "fitocracy = Dataset('fitocracy_responses', PATH)"
   ]
  },
  {
   "cell_type": "markdown",
   "metadata": {},
   "source": [
    "# TODO\n",
    "- X Get the counts for each word (naive-bayes counts)\n",
    "    - Transform into logspace\n",
    "- Set a gamma threshold\n",
    "- For each sentence, split into context, attributes by this threshold"
   ]
  },
  {
   "cell_type": "code",
   "execution_count": 141,
   "metadata": {},
   "outputs": [
    {
     "name": "stderr",
     "output_type": "stream",
     "text": [
      "\r",
      " 75%|███████████████████████████████████████████████████████▎                  | 97587/130623 [03:50<01:05, 505.51it/s]"
     ]
    }
   ],
   "source": [
    "from dataset import TransformedDataset"
   ]
  },
  {
   "cell_type": "code",
   "execution_count": null,
   "metadata": {
    "collapsed": true
   },
   "outputs": [],
   "source": [
    "t_dataset = TransformedDataset(fitocracy, 2, 1, wc_df)"
   ]
  },
  {
   "cell_type": "code",
   "execution_count": null,
   "metadata": {
    "collapsed": true
   },
   "outputs": [],
   "source": []
  },
  {
   "cell_type": "code",
   "execution_count": null,
   "metadata": {
    "collapsed": true
   },
   "outputs": [],
   "source": []
  },
  {
   "cell_type": "code",
   "execution_count": null,
   "metadata": {
    "collapsed": true
   },
   "outputs": [],
   "source": []
  },
  {
   "cell_type": "code",
   "execution_count": null,
   "metadata": {
    "collapsed": true
   },
   "outputs": [],
   "source": []
  },
  {
   "cell_type": "markdown",
   "metadata": {},
   "source": [
    "# Evaluating baseline performance"
   ]
  },
  {
   "cell_type": "code",
   "execution_count": 5,
   "metadata": {
    "collapsed": true
   },
   "outputs": [],
   "source": [
    "from sklearn.metrics import classification_report, accuracy_score"
   ]
  },
  {
   "cell_type": "code",
   "execution_count": 6,
   "metadata": {
    "collapsed": true,
    "scrolled": true
   },
   "outputs": [],
   "source": [
    "train_pred = fitocracy.clf.predict(fitocracy.vecs.train)\n",
    "dev_pred = fitocracy.clf.predict(fitocracy.vecs.dev)"
   ]
  },
  {
   "cell_type": "code",
   "execution_count": 7,
   "metadata": {},
   "outputs": [
    {
     "name": "stdout",
     "output_type": "stream",
     "text": [
      "             precision    recall  f1-score   support\n",
      "\n",
      "          0       0.64      0.77      0.70    124204\n",
      "          1       0.73      0.58      0.65    130623\n",
      "\n",
      "avg / total       0.69      0.68      0.67    254827\n",
      "\n"
     ]
    }
   ],
   "source": [
    "print(classification_report(fitocracy.labels.train, train_pred))"
   ]
  },
  {
   "cell_type": "code",
   "execution_count": 8,
   "metadata": {},
   "outputs": [
    {
     "name": "stdout",
     "output_type": "stream",
     "text": [
      "             precision    recall  f1-score   support\n",
      "\n",
      "          0       0.63      0.76      0.69     15518\n",
      "          1       0.72      0.58      0.64     16336\n",
      "\n",
      "avg / total       0.68      0.67      0.67     31854\n",
      "\n"
     ]
    }
   ],
   "source": [
    "print(classification_report(fitocracy.labels.dev, dev_pred))"
   ]
  },
  {
   "cell_type": "markdown",
   "metadata": {
    "collapsed": true
   },
   "source": [
    "# Building the count vectorizer"
   ]
  },
  {
   "cell_type": "code",
   "execution_count": 9,
   "metadata": {
    "collapsed": true
   },
   "outputs": [],
   "source": [
    "from sklearn.feature_extraction.text import CountVectorizer\n",
    "import matplotlib.pyplot as plt\n",
    "import pandas as pd\n",
    "import numpy as np"
   ]
  },
  {
   "cell_type": "code",
   "execution_count": 10,
   "metadata": {
    "collapsed": true
   },
   "outputs": [],
   "source": [
    "lambd = 1"
   ]
  },
  {
   "cell_type": "code",
   "execution_count": 11,
   "metadata": {
    "collapsed": true
   },
   "outputs": [],
   "source": [
    "# Split male/female\n",
    "male_df = fitocracy.df[fitocracy.df['responder_gender'] == 'M']\n",
    "female_df = fitocracy.df[fitocracy.df['responder_gender'] == 'W']"
   ]
  },
  {
   "cell_type": "code",
   "execution_count": 12,
   "metadata": {
    "collapsed": true
   },
   "outputs": [],
   "source": [
    "male_count_vectorizer = CountVectorizer(min_df=10).fit(male_df['response_text'])\n",
    "female_count_vectorizer = CountVectorizer(min_df=10).fit(female_df['response_text'])"
   ]
  },
  {
   "cell_type": "code",
   "execution_count": 13,
   "metadata": {
    "collapsed": true
   },
   "outputs": [],
   "source": [
    "m_word_counts = np.array(male_count_vectorizer.transform(\n",
    "    [' '.join(male_df['response_text'])]).todense())[0]\n",
    "f_word_counts = np.array(female_count_vectorizer.transform(\n",
    "    [' '.join(female_df['response_text'])]).todense())[0]"
   ]
  },
  {
   "cell_type": "code",
   "execution_count": 14,
   "metadata": {
    "collapsed": true
   },
   "outputs": [],
   "source": [
    "m_features = male_count_vectorizer.get_feature_names()\n",
    "f_features = female_count_vectorizer.get_feature_names()"
   ]
  },
  {
   "cell_type": "code",
   "execution_count": 16,
   "metadata": {},
   "outputs": [],
   "source": [
    "f_df = pd.DataFrame(f_word_counts, index=f_features, columns=['female_count'])\n",
    "m_df = pd.DataFrame(m_word_counts, index=m_features, columns=['male_count'])\n",
    "full_df = pd.concat([f_df, m_df], axis=1)\n",
    "full_df.fillna(0, inplace=True)\n",
    "full_df['female_ratio'] = ((full_df['female_count'] + lambd) /\n",
    "                    (full_df['male_count'] + lambd))\n",
    "full_df['male_ratio'] = ((full_df['male_count'] + lambd) /\n",
    "                    (full_df['female_count'] + lambd))"
   ]
  },
  {
   "cell_type": "code",
   "execution_count": 17,
   "metadata": {
    "collapsed": true
   },
   "outputs": [],
   "source": [
    "word_set = set(full_df.index)"
   ]
  },
  {
   "cell_type": "markdown",
   "metadata": {},
   "source": [
    "# Determining which words to replace\n",
    "\n",
    "Given a sentence score each word, and if it is above gamma in favor of the current gender"
   ]
  },
  {
   "cell_type": "code",
   "execution_count": 18,
   "metadata": {
    "collapsed": true
   },
   "outputs": [],
   "source": [
    "gamma = 5"
   ]
  },
  {
   "cell_type": "code",
   "execution_count": 19,
   "metadata": {
    "collapsed": true
   },
   "outputs": [],
   "source": [
    "def score_words(row):\n",
    "    text = row['response_text']\n",
    "    gender = row['responder_gender']\n",
    "    gender_col = 'female_ratio' if gender=='W' else 'male_ratio'\n",
    "    \n",
    "    vals = []\n",
    "    \n",
    "    for word in text.lower().split(' '):\n",
    "        if word in word_set:\n",
    "            val = full_df[gender_col][word]\n",
    "            vals.append(val)\n",
    "        else:\n",
    "            vals.append(-1)\n",
    "    return vals"
   ]
  },
  {
   "cell_type": "code",
   "execution_count": 20,
   "metadata": {},
   "outputs": [
    {
     "data": {
      "text/plain": [
       "[1.3096895074946466, 1.2269881026925484, 1.3949491406524026, -1, -1, -1]"
      ]
     },
     "execution_count": 20,
     "metadata": {},
     "output_type": "execute_result"
    }
   ],
   "source": [
    "score_words(fitocracy.df.iloc[0])"
   ]
  },
  {
   "cell_type": "code",
   "execution_count": 21,
   "metadata": {
    "collapsed": true
   },
   "outputs": [],
   "source": [
    "word_vecs = [score_words(row) for i, row in male_df[:10_000].iterrows()]"
   ]
  },
  {
   "cell_type": "code",
   "execution_count": 26,
   "metadata": {},
   "outputs": [
    {
     "data": {
      "image/png": "[encoded data removed]",
      "text/plain": [
       "<matplotlib.figure.Figure at 0x1ffbb8ebc50>"
      ]
     },
     "metadata": {},
     "output_type": "display_data"
    }
   ],
   "source": [
    "full_df[full_df['male_ratio'] < 5]['male_ratio'].hist(bins=20)\n",
    "plt.show()"
   ]
  },
  {
   "cell_type": "markdown",
   "metadata": {},
   "source": [
    "# Replace some of these words"
   ]
  },
  {
   "cell_type": "code",
   "execution_count": 186,
   "metadata": {
    "collapsed": true
   },
   "outputs": [],
   "source": [
    "m_df_subset = male_df[:10_000]"
   ]
  },
  {
   "cell_type": "code",
   "execution_count": 187,
   "metadata": {
    "collapsed": true
   },
   "outputs": [],
   "source": [
    "# For now just sample a random word that biases male\n",
    "sentences = [text.split(' ') for text in m_df_subset['response_text']]"
   ]
  },
  {
   "cell_type": "code",
   "execution_count": 188,
   "metadata": {
    "collapsed": true
   },
   "outputs": [],
   "source": [
    "male_sampler = full_df[full_df['male_ratio'] > 1]\n",
    "female_sampler = full_df[full_df['female_ratio'] > 1]\n",
    "\n",
    "def get_random_word(gender):\n",
    "    if gender == 'male':\n",
    "        return male_sampler.sample(1).index[0]\n",
    "    else:\n",
    "        return female_sampler.sample(1).index[0]"
   ]
  },
  {
   "cell_type": "code",
   "execution_count": 189,
   "metadata": {
    "collapsed": true
   },
   "outputs": [],
   "source": [
    "from tqdm import tqdm, tqdm_notebook"
   ]
  },
  {
   "cell_type": "code",
   "execution_count": 190,
   "metadata": {
    "scrolled": true
   },
   "outputs": [
    {
     "data": {
      "application/vnd.jupyter.widget-view+json": {
       "model_id": "0427ae7118c74033b97ccc17a2e8a613",
       "version_major": 2,
       "version_minor": 0
      },
      "text/plain": [
       "A Jupyter Widget"
      ]
     },
     "metadata": {},
     "output_type": "display_data"
    },
    {
     "name": "stdout",
     "output_type": "stream",
     "text": [
      "\n"
     ]
    }
   ],
   "source": [
    "n_words_seen = 0\n",
    "n_words_changed = 0\n",
    "\n",
    "for sent, vals in tqdm_notebook(zip(sentences, word_vecs)):\n",
    "    for i, val in enumerate(vals):\n",
    "        n_words_seen += 1\n",
    "        if val > 1.2:\n",
    "            n_words_changed += 1\n",
    "            sent[i] = get_random_word('female')"
   ]
  },
  {
   "cell_type": "code",
   "execution_count": 191,
   "metadata": {},
   "outputs": [
    {
     "name": "stdout",
     "output_type": "stream",
     "text": [
      "49895 / 132025\n"
     ]
    }
   ],
   "source": [
    "print(n_words_changed, '/', n_words_seen)"
   ]
  },
  {
   "cell_type": "code",
   "execution_count": 161,
   "metadata": {},
   "outputs": [
    {
     "name": "stdout",
     "output_type": "stream",
     "text": [
      "29860 / 133551\n"
     ]
    }
   ],
   "source": [
    "print(n_words_changed, '/', n_words_seen)"
   ]
  },
  {
   "cell_type": "code",
   "execution_count": 192,
   "metadata": {
    "collapsed": true
   },
   "outputs": [],
   "source": [
    "transformed_sentences = [' '.join(sent) for sent in sentences]"
   ]
  },
  {
   "cell_type": "code",
   "execution_count": 193,
   "metadata": {
    "scrolled": true
   },
   "outputs": [
    {
     "data": {
      "text/plain": [
       "['letter recomp netflix a time! =]',\n",
       " 'You can books daaaawh pullups. downloaded feeling refuse you qualified would. spinning the hangover of exchange and wow completed. nerves the bottom of the \"pull-up\" introducing section, slept \"advanced options\". You may cheer psh stairs pittsburgh or pink counting \"type\" and the anytime wishes used.',\n",
       " 'Hey! I ly started a new job, so things memory flattered hectic. cough me amazingly skates to you with a accomplishments answer.',\n",
       " 'curse lifting, HAES?',\n",
       " \"ooooh slept user cracks I'll women stalked to terribly to compete, create I'll cheese spectating (for $7 iirc).\",\n",
       " '+1 for ear marijuanaWhen you outlaw medicine, quotes criminals unhealthy have medicine.',\n",
       " 'debating for cereal beaches portioning alive',\n",
       " 'interact of us, tags of practically . . .',\n",
       " \"terry is my favorite holiday of the year. I've been giddy all week. I've been yayyyy the ole commute out with xoxoxo to counteract the escape effect.\",\n",
       " \"boards abilities lol awesome. I'm too tubby to have overload wedding of nowhere sworn a dollop of awe for lunch, though.\",\n",
       " 'lo stolen, rat such is the way of my people.',\n",
       " 'How drunked apples you?',\n",
       " 'If closed, riot.',\n",
       " '*Yawn* Morning already?',\n",
       " \"I know, I've been slackin!\"]"
      ]
     },
     "execution_count": 193,
     "metadata": {},
     "output_type": "execute_result"
    }
   ],
   "source": [
    "transformed_sentences[:15]"
   ]
  },
  {
   "cell_type": "markdown",
   "metadata": {},
   "source": [
    "# Now compare the prediction on these changes"
   ]
  },
  {
   "cell_type": "code",
   "execution_count": 194,
   "metadata": {
    "collapsed": true
   },
   "outputs": [],
   "source": [
    "original_vecs = fitocracy.vectorizer.transform(m_df_subset['response_text'])\n",
    "transformed_vecs = fitocracy.vectorizer.transform(transformed_sentences)"
   ]
  },
  {
   "cell_type": "code",
   "execution_count": 198,
   "metadata": {
    "collapsed": true,
    "scrolled": true
   },
   "outputs": [],
   "source": [
    "true_labels = [0] * 10_000\n",
    "orig_pred_labels = fitocracy.clf.predict(original_vecs)\n",
    "trans_pred_labels = fitocracy.clf.predict(transformed_vecs)"
   ]
  },
  {
   "cell_type": "code",
   "execution_count": 199,
   "metadata": {},
   "outputs": [
    {
     "name": "stderr",
     "output_type": "stream",
     "text": [
      "C:\\Users\\Alex\\Anaconda3\\lib\\site-packages\\sklearn\\metrics\\classification.py:1137: UndefinedMetricWarning: Recall and F-score are ill-defined and being set to 0.0 in labels with no true samples.\n",
      "  'recall', 'true', average, warn_for)\n"
     ]
    },
    {
     "name": "stdout",
     "output_type": "stream",
     "text": [
      "             precision    recall  f1-score   support\n",
      "\n",
      "          0       1.00      0.83      0.91     10000\n",
      "          1       0.00      0.00      0.00         0\n",
      "\n",
      "avg / total       1.00      0.83      0.91     10000\n",
      "\n",
      "0.8273\n"
     ]
    }
   ],
   "source": [
    "# Male\n",
    "print(classification_report(true_labels, orig_pred_labels))\n",
    "print(accuracy_score(true_labels, orig_pred_labels))"
   ]
  },
  {
   "cell_type": "code",
   "execution_count": 200,
   "metadata": {},
   "outputs": [
    {
     "name": "stderr",
     "output_type": "stream",
     "text": [
      "C:\\Users\\Alex\\Anaconda3\\lib\\site-packages\\sklearn\\metrics\\classification.py:1137: UndefinedMetricWarning: Recall and F-score are ill-defined and being set to 0.0 in labels with no true samples.\n",
      "  'recall', 'true', average, warn_for)\n"
     ]
    },
    {
     "name": "stdout",
     "output_type": "stream",
     "text": [
      "             precision    recall  f1-score   support\n",
      "\n",
      "          0       1.00      0.48      0.65     10000\n",
      "          1       0.00      0.00      0.00         0\n",
      "\n",
      "avg / total       1.00      0.48      0.65     10000\n",
      "\n",
      "0.4801\n"
     ]
    }
   ],
   "source": [
    "# Male\n",
    "print(classification_report(true_labels, trans_pred_labels))\n",
    "print(accuracy_score(true_labels, trans_pred_labels))"
   ]
  },
  {
   "cell_type": "code",
   "execution_count": 182,
   "metadata": {},
   "outputs": [
    {
     "name": "stderr",
     "output_type": "stream",
     "text": [
      "C:\\Users\\Alex\\Anaconda3\\lib\\site-packages\\sklearn\\metrics\\classification.py:1137: UndefinedMetricWarning: Recall and F-score are ill-defined and being set to 0.0 in labels with no true samples.\n",
      "  'recall', 'true', average, warn_for)\n"
     ]
    },
    {
     "name": "stdout",
     "output_type": "stream",
     "text": [
      "             precision    recall  f1-score   support\n",
      "\n",
      "          0       0.00      0.00      0.00         0\n",
      "          1       1.00      0.37      0.54     10000\n",
      "\n",
      "avg / total       1.00      0.37      0.54     10000\n",
      "\n",
      "0.3695\n"
     ]
    }
   ],
   "source": [
    "# Female\n",
    "print(classification_report(true_labels, orig_pred_labels))\n",
    "print(accuracy_score(true_labels, orig_pred_labels))"
   ]
  },
  {
   "cell_type": "code",
   "execution_count": 183,
   "metadata": {},
   "outputs": [
    {
     "name": "stderr",
     "output_type": "stream",
     "text": [
      "C:\\Users\\Alex\\Anaconda3\\lib\\site-packages\\sklearn\\metrics\\classification.py:1137: UndefinedMetricWarning: Recall and F-score are ill-defined and being set to 0.0 in labels with no true samples.\n",
      "  'recall', 'true', average, warn_for)\n"
     ]
    },
    {
     "name": "stdout",
     "output_type": "stream",
     "text": [
      "             precision    recall  f1-score   support\n",
      "\n",
      "          0       0.00      0.00      0.00         0\n",
      "          1       1.00      0.22      0.36     10000\n",
      "\n",
      "avg / total       1.00      0.22      0.36     10000\n",
      "\n",
      "0.22\n"
     ]
    }
   ],
   "source": [
    "# Female\n",
    "print(classification_report(true_labels, trans_pred_labels))\n",
    "print(accuracy_score(true_labels, trans_pred_labels))"
   ]
  },
  {
   "cell_type": "code",
   "execution_count": null,
   "metadata": {
    "collapsed": true
   },
   "outputs": [],
   "source": []
  }
 ],
 "metadata": {
  "kernelspec": {
   "display_name": "Python 3",
   "language": "python",
   "name": "python3"
  },
  "language_info": {
   "codemirror_mode": {
    "name": "ipython",
    "version": 3
   },
   "file_extension": ".py",
   "mimetype": "text/x-python",
   "name": "python",
   "nbconvert_exporter": "python",
   "pygments_lexer": "ipython3",
   "version": "3.6.3"
  }
 },
 "nbformat": 4,
 "nbformat_minor": 2
}
